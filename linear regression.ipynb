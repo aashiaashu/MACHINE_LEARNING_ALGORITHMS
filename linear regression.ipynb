{
 "cells": [
  {
   "cell_type": "code",
   "execution_count": 1,
   "id": "412da4ba",
   "metadata": {},
   "outputs": [],
   "source": [
    "import numpy as np\n",
    "import pandas as pd\n",
    "import matplotlib.pyplot as plt "
   ]
  },
  {
   "cell_type": "code",
   "execution_count": 2,
   "id": "5bcb3e77",
   "metadata": {},
   "outputs": [],
   "source": [
    "data_set = pd.read_csv(\"Salary_Data.csv\")"
   ]
  },
  {
   "cell_type": "code",
   "execution_count": 3,
   "id": "4244b62d",
   "metadata": {},
   "outputs": [
    {
     "name": "stdout",
     "output_type": "stream",
     "text": [
      "    YearsExperience   Age  Salary\n",
      "0               1.1  21.0   39343\n",
      "1               1.3  21.5   46205\n",
      "2               1.5  21.7   37731\n",
      "3               2.0  22.0   43525\n",
      "4               2.2  22.2   39891\n",
      "5               2.9  23.0   56642\n",
      "6               3.0  23.0   60150\n",
      "7               3.2  23.3   54445\n",
      "8               3.2  23.3   64445\n",
      "9               3.7  23.6   57189\n",
      "10              3.9  23.9   63218\n",
      "11              4.0  24.0   55794\n",
      "12              4.0  24.0   56957\n",
      "13              4.1  24.0   57081\n",
      "14              4.5  25.0   61111\n",
      "15              4.9  25.0   67938\n",
      "16              5.1  26.0   66029\n",
      "17              5.3  27.0   83088\n",
      "18              5.9  28.0   81363\n",
      "19              6.0  29.0   93940\n",
      "20              6.8  30.0   91738\n",
      "21              7.1  30.0   98273\n",
      "22              7.9  31.0  101302\n",
      "23              8.2  32.0  113812\n",
      "24              8.7  33.0  109431\n",
      "25              9.0  34.0  105582\n",
      "26              9.5  35.0  116969\n",
      "27              9.6  36.0  112635\n",
      "28             10.3  37.0  122391\n",
      "29             10.5  38.0  121872\n"
     ]
    }
   ],
   "source": [
    "print(data_set)"
   ]
  },
  {
   "cell_type": "code",
   "execution_count": 23,
   "id": "56fdef11",
   "metadata": {},
   "outputs": [],
   "source": [
    "x = data_set.iloc[:,1:2].values\n",
    "y = data_set.iloc[:,2].values"
   ]
  },
  {
   "cell_type": "code",
   "execution_count": 22,
   "id": "c82fb8d2",
   "metadata": {},
   "outputs": [
    {
     "name": "stdout",
     "output_type": "stream",
     "text": [
      "[[21. ]\n",
      " [21.5]\n",
      " [21.7]\n",
      " [22. ]\n",
      " [22.2]\n",
      " [23. ]\n",
      " [23. ]\n",
      " [23.3]\n",
      " [23.3]\n",
      " [23.6]\n",
      " [23.9]\n",
      " [24. ]\n",
      " [24. ]\n",
      " [24. ]\n",
      " [25. ]\n",
      " [25. ]\n",
      " [26. ]\n",
      " [27. ]\n",
      " [28. ]\n",
      " [29. ]\n",
      " [30. ]\n",
      " [30. ]\n",
      " [31. ]\n",
      " [32. ]\n",
      " [33. ]\n",
      " [34. ]\n",
      " [35. ]\n",
      " [36. ]\n",
      " [37. ]\n",
      " [38. ]]\n"
     ]
    }
   ],
   "source": [
    "print(x)"
   ]
  },
  {
   "cell_type": "code",
   "execution_count": 24,
   "id": "18ef619a",
   "metadata": {},
   "outputs": [
    {
     "name": "stdout",
     "output_type": "stream",
     "text": [
      "[ 39343  46205  37731  43525  39891  56642  60150  54445  64445  57189\n",
      "  63218  55794  56957  57081  61111  67938  66029  83088  81363  93940\n",
      "  91738  98273 101302 113812 109431 105582 116969 112635 122391 121872]\n"
     ]
    }
   ],
   "source": [
    "print(y)"
   ]
  },
  {
   "cell_type": "code",
   "execution_count": 25,
   "id": "3e9ce9df",
   "metadata": {},
   "outputs": [],
   "source": [
    "from sklearn.model_selection import train_test_split\n",
    "x_train,x_test,y_train,y_test = train_test_split(x,y,test_size=0.2)"
   ]
  },
  {
   "cell_type": "code",
   "execution_count": 26,
   "id": "aa3902f7",
   "metadata": {},
   "outputs": [],
   "source": [
    "from sklearn.linear_model import LinearRegression"
   ]
  },
  {
   "cell_type": "code",
   "execution_count": 27,
   "id": "cbec1da1",
   "metadata": {},
   "outputs": [],
   "source": [
    "reg = LinearRegression()"
   ]
  },
  {
   "cell_type": "code",
   "execution_count": 28,
   "id": "66742ba5",
   "metadata": {},
   "outputs": [
    {
     "data": {
      "text/plain": [
       "LinearRegression()"
      ]
     },
     "execution_count": 28,
     "metadata": {},
     "output_type": "execute_result"
    }
   ],
   "source": [
    "reg.fit(x_train,y_train)"
   ]
  },
  {
   "cell_type": "code",
   "execution_count": 30,
   "id": "7404d71a",
   "metadata": {},
   "outputs": [],
   "source": [
    "y_pred = reg.predict(x_test)\n",
    "x_pred = reg.predict(x_train)"
   ]
  },
  {
   "cell_type": "code",
   "execution_count": 32,
   "id": "d26b9854",
   "metadata": {},
   "outputs": [
    {
     "name": "stdout",
     "output_type": "stream",
     "text": [
      "training set\n"
     ]
    },
    {
     "data": {
      "image/png": "[encoded data removed]",
      "text/plain": [
       "<Figure size 432x288 with 1 Axes>"
      ]
     },
     "metadata": {
      "needs_background": "light"
     },
     "output_type": "display_data"
    }
   ],
   "source": [
    "print(\"training set\")\n",
    "plt.scatter(x_train,y_train,color=\"green\")\n",
    "plt.plot(x_train,x_pred,color=\"red\")\n",
    "plt.show()"
   ]
  },
  {
   "cell_type": "code",
   "execution_count": 34,
   "id": "898a94f1",
   "metadata": {},
   "outputs": [
    {
     "name": "stdout",
     "output_type": "stream",
     "text": [
      "test set\n"
     ]
    },
    {
     "data": {
      "image/png": "[encoded data removed]",
      "text/plain": [
       "<Figure size 432x288 with 1 Axes>"
      ]
     },
     "metadata": {
      "needs_background": "light"
     },
     "output_type": "display_data"
    }
   ],
   "source": [
    "print(\"test set\")\n",
    "plt.scatter(x_test,y_test,color=\"blue\")\n",
    "plt.plot(x_train,x_pred,color=\"red\")\n",
    "plt.show()"
   ]
  },
  {
   "cell_type": "code",
   "execution_count": null,
   "id": "64d98a4c",
   "metadata": {},
   "outputs": [],
   "source": []
  }
 ],
 "metadata": {
  "kernelspec": {
   "display_name": "Python 3 (ipykernel)",
   "language": "python",
   "name": "python3"
  },
  "language_info": {
   "codemirror_mode": {
    "name": "ipython",
    "version": 3
   },
   "file_extension": ".py",
   "mimetype": "text/x-python",
   "name": "python",
   "nbconvert_exporter": "python",
   "pygments_lexer": "ipython3",
   "version": "3.9.12"
  }
 },
 "nbformat": 4,
 "nbformat_minor": 5
}
